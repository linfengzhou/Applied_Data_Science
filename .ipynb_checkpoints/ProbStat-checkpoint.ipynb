{
 "cells": [
  {
   "cell_type": "markdown",
   "metadata": {},
   "source": [
    "# Key Topics from Probability and Statistics"
   ]
  },
  {
   "cell_type": "markdown",
   "metadata": {},
   "source": [
    "## What is probability?  \n",
    "\n",
    "Classical view arose from gambling with dice and holds that outcomes have equal probabilty.  \n",
    "\n",
    "Subjective view uses a model with randomness such as the payoff to a particular gamble.  \n",
    "\n",
    "Frequentist view holds that probability is based on the history of outcomes from an experiment, such as the probability the stock market goes up tomorrow or P(stock market goes up tomorrow)."
   ]
  },
  {
   "cell_type": "markdown",
   "metadata": {},
   "source": [
    "## Components of an Experiment\n",
    "\n",
    "### Sample space, $S$, which is the set of all possible outcomes.\n",
    "\n",
    "Examples: \n",
    "\n",
    "1. Flipping a US penny, $S=\\{Heads,Tails\\}$\n",
    "\n",
    "2. Throwing a die, $S=\\{1,2,3,4,5,6\\}$\n",
    "\n",
    "3. Throwing two dice, $S=\\{i,j\\}: i,j=1,2,3,4,5,6$\n",
    "\n",
    "### Events, $A$, which are any subset of $S$\n",
    "\n",
    "Examples: \n",
    "\n",
    "1. $Heads$ from $\\{Heads,Tails\\}$\n",
    "\n",
    "2. $2$ from $\\{1,2,3,4,5,6\\}$\n",
    "\n",
    "### Probability \n",
    "\n",
    "$P: A\\rightarrow[0,1]$ or $P(A)$"
   ]
  },
  {
   "cell_type": "markdown",
   "metadata": {},
   "source": [
    "## Properites of Probability\n",
    "\n",
    "1. The probability of an event occuring lies between 0 and 1: $P(A)\\in[0,1]$\n",
    "\n",
    "2. The probability of the sample space occurring is 1: $P(S)=1$\n",
    "\n",
    "3. Summation: $P(A \\bigcup B) = P(A) + P(B)$ for independent events\n",
    "\n",
    "4. Conditioning: $P(A|B) = P(A)$ for independent events\n",
    "\n",
    "5. Complimentary: $P(A^c) = 1-P(A)$"
   ]
  },
  {
   "cell_type": "markdown",
   "metadata": {},
   "source": [
    "# Random Variables\n",
    "\n",
    "We operationalize all of this stuff through the use of Random Variables (both discrete and continuous) and examine important characteristics of these animals (moments) such as mean, variance (standard error), and correlation (when we have more than one RV).\n",
    "\n",
    "##Examples of Discrete RVs\n",
    "The experiment is to toss a coin 25 times.  The random variable is the outcome, $\\{Heads, Tails\\}$, from which we can calculate a mean and a standard deviation.\n",
    "\n",
    "The experiment is toss two dice 10 times.  The random variables are the outcomes of each toss, from which we can calculate a mean, a standard deviation, and a correlation.  Technically, this is a binomial random variable (multiple experiments of a single Bernoulli trial).\n",
    "\n",
    "Let's make this practical and do some statistical computing."
   ]
  },
  {
   "cell_type": "code",
   "execution_count": 8,
   "metadata": {
    "collapsed": true
   },
   "outputs": [],
   "source": [
    "import numpy as np\n",
    "from numpy import random"
   ]
  },
  {
   "cell_type": "code",
   "execution_count": 9,
   "metadata": {
    "collapsed": false
   },
   "outputs": [
    {
     "name": "stdout",
     "output_type": "stream",
     "text": [
      "[0 0 0 1 0 0 0 1 1 1 1 1 0 1 1 0 0 1 1 0 0 0 0 0 1]\n"
     ]
    }
   ],
   "source": [
    "coin = random.random_integers(0, 1, 25)\n",
    "print coin"
   ]
  },
  {
   "cell_type": "code",
   "execution_count": 10,
   "metadata": {
    "collapsed": false
   },
   "outputs": [
    {
     "name": "stdout",
     "output_type": "stream",
     "text": [
      "0.44 0.49638694584\n"
     ]
    }
   ],
   "source": [
    "print coin.mean(), coin.std()"
   ]
  },
  {
   "cell_type": "code",
   "execution_count": 11,
   "metadata": {
    "collapsed": false
   },
   "outputs": [
    {
     "name": "stdout",
     "output_type": "stream",
     "text": [
      "[4 6 4 5 6 2 6 3 3 6] [5 4 1 4 5 5 2 4 6 6]\n"
     ]
    }
   ],
   "source": [
    "die1 = random.random_integers(1, 6, 10)\n",
    "die2 = random.random_integers(1, 6, 10)\n",
    "print die1, die2"
   ]
  },
  {
   "cell_type": "code",
   "execution_count": 12,
   "metadata": {
    "collapsed": false
   },
   "outputs": [
    {
     "name": "stdout",
     "output_type": "stream",
     "text": [
      "4.5 1.43178210633 4.2 1.53622914957 -0.136391819403\n"
     ]
    }
   ],
   "source": [
    "print die1.mean(), die1.std(), die2.mean(), die2.std(), np.corrcoef(die1, die2)[0, 1]"
   ]
  },
  {
   "cell_type": "markdown",
   "metadata": {},
   "source": [
    "### Other Discrete RVs"
   ]
  },
  {
   "cell_type": "markdown",
   "metadata": {},
   "source": [
    "1. Multinomial (multiple outcomes, such as position A, B, C, or D).\n",
    "2. Discrete uniform (roll of a die or dice).\n",
    "3. Poisson (integer-valued, often used for counting, such as the number of stars or the number of visits to the doctor)."
   ]
  },
  {
   "cell_type": "markdown",
   "metadata": {},
   "source": [
    "## Examples of (Important) Continuous RV"
   ]
  },
  {
   "cell_type": "markdown",
   "metadata": {},
   "source": [
    "### Logistic"
   ]
  },
  {
   "cell_type": "markdown",
   "metadata": {},
   "source": [
    "Cumulative Density Function\n",
    "\n",
    "$F(x)=\\displaystyle{\\frac{1}{1+\\exp(-x)}}$\n",
    "\n",
    "Probability Density Function\n",
    "\n",
    "$f(x)=F^\\prime(x)=\\displaystyle{\\frac{\\exp(-x)}{1+\\exp(-x)}}$"
   ]
  },
  {
   "cell_type": "code",
   "execution_count": 14,
   "metadata": {
    "collapsed": false
   },
   "outputs": [
    {
     "name": "stdout",
     "output_type": "stream",
     "text": [
      "Populating the interactive namespace from numpy and matplotlib\n"
     ]
    },
    {
     "ename": "ImportError",
     "evalue": "No module named seaborn",
     "output_type": "error",
     "traceback": [
      "\u001b[0;31m---------------------------------------------------------------------------\u001b[0m",
      "\u001b[0;31mImportError\u001b[0m                               Traceback (most recent call last)",
      "\u001b[0;32m<ipython-input-14-68bcb61547ea>\u001b[0m in \u001b[0;36m<module>\u001b[0;34m()\u001b[0m\n\u001b[1;32m      2\u001b[0m \u001b[0;32mimport\u001b[0m \u001b[0mnumpy\u001b[0m \u001b[0;32mas\u001b[0m \u001b[0mnp\u001b[0m\u001b[0;34m\u001b[0m\u001b[0m\n\u001b[1;32m      3\u001b[0m \u001b[0;32mimport\u001b[0m \u001b[0mmatplotlib\u001b[0m\u001b[0;34m.\u001b[0m\u001b[0mpyplot\u001b[0m \u001b[0;32mas\u001b[0m \u001b[0mplt\u001b[0m\u001b[0;34m\u001b[0m\u001b[0m\n\u001b[0;32m----> 4\u001b[0;31m \u001b[0;32mimport\u001b[0m \u001b[0mseaborn\u001b[0m \u001b[0;32mas\u001b[0m \u001b[0msns\u001b[0m\u001b[0;34m\u001b[0m\u001b[0m\n\u001b[0m\u001b[1;32m      5\u001b[0m \u001b[0msns\u001b[0m\u001b[0;34m.\u001b[0m\u001b[0mset\u001b[0m\u001b[0;34m(\u001b[0m\u001b[0mcontext\u001b[0m\u001b[0;34m=\u001b[0m\u001b[0;34m'notebook'\u001b[0m\u001b[0;34m,\u001b[0m \u001b[0mstyle\u001b[0m\u001b[0;34m=\u001b[0m\u001b[0;34m'whitegrid'\u001b[0m\u001b[0;34m,\u001b[0m \u001b[0mpalette\u001b[0m\u001b[0;34m=\u001b[0m\u001b[0;34m'deep'\u001b[0m\u001b[0;34m,\u001b[0m \u001b[0mfont\u001b[0m\u001b[0;34m=\u001b[0m\u001b[0;34m'sans-serif'\u001b[0m\u001b[0;34m,\u001b[0m \u001b[0mfont_scale\u001b[0m\u001b[0;34m=\u001b[0m\u001b[0;36m1\u001b[0m\u001b[0;34m,\u001b[0m \u001b[0mrc\u001b[0m\u001b[0;34m=\u001b[0m\u001b[0mNone\u001b[0m\u001b[0;34m)\u001b[0m\u001b[0;34m\u001b[0m\u001b[0m\n\u001b[1;32m      6\u001b[0m \u001b[0;34m\u001b[0m\u001b[0m\n",
      "\u001b[0;31mImportError\u001b[0m: No module named seaborn"
     ]
    }
   ],
   "source": [
    "%pylab inline\n",
    "import numpy as np\n",
    "import matplotlib.pyplot as plt\n",
    "import seaborn as sns\n",
    "sns.set(context='notebook', style='whitegrid', palette='deep', font='sans-serif', font_scale=1, rc=None)\n",
    "\n",
    "x = np.linspace(-10,10,1000)\n",
    "pdf = np.exp(-x)/(1+np.exp(-x))**2\n",
    "cdf = 1/(1+np.exp(-x))"
   ]
  },
  {
   "cell_type": "code",
   "execution_count": 15,
   "metadata": {
    "collapsed": false
   },
   "outputs": [
    {
     "ename": "NameError",
     "evalue": "name 'x' is not defined",
     "output_type": "error",
     "traceback": [
      "\u001b[0;31m---------------------------------------------------------------------------\u001b[0m",
      "\u001b[0;31mNameError\u001b[0m                                 Traceback (most recent call last)",
      "\u001b[0;32m<ipython-input-15-7f0a69879ccb>\u001b[0m in \u001b[0;36m<module>\u001b[0;34m()\u001b[0m\n\u001b[1;32m      1\u001b[0m \u001b[0mplt\u001b[0m\u001b[0;34m.\u001b[0m\u001b[0mfigure\u001b[0m\u001b[0;34m(\u001b[0m\u001b[0mfigsize\u001b[0m \u001b[0;34m=\u001b[0m \u001b[0;34m(\u001b[0m\u001b[0;36m12\u001b[0m\u001b[0;34m,\u001b[0m\u001b[0;36m10\u001b[0m\u001b[0;34m)\u001b[0m\u001b[0;34m)\u001b[0m\u001b[0;34m\u001b[0m\u001b[0m\n\u001b[0;32m----> 2\u001b[0;31m \u001b[0mplt\u001b[0m\u001b[0;34m.\u001b[0m\u001b[0mplot\u001b[0m\u001b[0;34m(\u001b[0m\u001b[0mx\u001b[0m\u001b[0;34m,\u001b[0m \u001b[0mcdf\u001b[0m\u001b[0;34m,\u001b[0m \u001b[0;34m'b'\u001b[0m\u001b[0;34m)\u001b[0m\u001b[0;34m\u001b[0m\u001b[0m\n\u001b[0m\u001b[1;32m      3\u001b[0m \u001b[0mplt\u001b[0m\u001b[0;34m.\u001b[0m\u001b[0mxlabel\u001b[0m\u001b[0;34m(\u001b[0m\u001b[0;34m'Support'\u001b[0m\u001b[0;34m,\u001b[0m \u001b[0mfontsize\u001b[0m \u001b[0;34m=\u001b[0m \u001b[0;36m16\u001b[0m\u001b[0;34m)\u001b[0m\u001b[0;34m\u001b[0m\u001b[0m\n\u001b[1;32m      4\u001b[0m \u001b[0mplt\u001b[0m\u001b[0;34m.\u001b[0m\u001b[0mylabel\u001b[0m\u001b[0;34m(\u001b[0m\u001b[0;34m'Probability'\u001b[0m\u001b[0;34m,\u001b[0m \u001b[0mfontsize\u001b[0m \u001b[0;34m=\u001b[0m \u001b[0;36m16\u001b[0m\u001b[0;34m)\u001b[0m\u001b[0;34m\u001b[0m\u001b[0m\n\u001b[1;32m      5\u001b[0m \u001b[0;31m#plt.ylim((0,.3))\u001b[0m\u001b[0;34m\u001b[0m\u001b[0;34m\u001b[0m\u001b[0m\n",
      "\u001b[0;31mNameError\u001b[0m: name 'x' is not defined"
     ]
    },
    {
     "data": {
      "text/plain": [
       "<matplotlib.figure.Figure at 0x106208250>"
      ]
     },
     "metadata": {},
     "output_type": "display_data"
    }
   ],
   "source": [
    "plt.figure(figsize = (12,10))\n",
    "plt.plot(x, cdf, 'b')\n",
    "plt.xlabel('Support', fontsize = 16)\n",
    "plt.ylabel('Probability', fontsize = 16)\n",
    "#plt.ylim((0,.3))\n",
    "plt.title('Logistic CDF', fontsize = 20)\n",
    "plt.axvline(0, color='r', ls='--', lw=2.0)"
   ]
  },
  {
   "cell_type": "code",
   "execution_count": 16,
   "metadata": {
    "collapsed": false
   },
   "outputs": [
    {
     "ename": "NameError",
     "evalue": "name 'x' is not defined",
     "output_type": "error",
     "traceback": [
      "\u001b[0;31m---------------------------------------------------------------------------\u001b[0m",
      "\u001b[0;31mNameError\u001b[0m                                 Traceback (most recent call last)",
      "\u001b[0;32m<ipython-input-16-1650c1af88a8>\u001b[0m in \u001b[0;36m<module>\u001b[0;34m()\u001b[0m\n\u001b[1;32m      1\u001b[0m \u001b[0mplt\u001b[0m\u001b[0;34m.\u001b[0m\u001b[0mfigure\u001b[0m\u001b[0;34m(\u001b[0m\u001b[0mfigsize\u001b[0m \u001b[0;34m=\u001b[0m \u001b[0;34m(\u001b[0m\u001b[0;36m12\u001b[0m\u001b[0;34m,\u001b[0m\u001b[0;36m10\u001b[0m\u001b[0;34m)\u001b[0m\u001b[0;34m)\u001b[0m\u001b[0;34m\u001b[0m\u001b[0m\n\u001b[0;32m----> 2\u001b[0;31m \u001b[0mplt\u001b[0m\u001b[0;34m.\u001b[0m\u001b[0mplot\u001b[0m\u001b[0;34m(\u001b[0m\u001b[0mx\u001b[0m\u001b[0;34m,\u001b[0m \u001b[0mpdf\u001b[0m\u001b[0;34m,\u001b[0m \u001b[0;34m'b'\u001b[0m\u001b[0;34m)\u001b[0m\u001b[0;34m\u001b[0m\u001b[0m\n\u001b[0m\u001b[1;32m      3\u001b[0m \u001b[0mplt\u001b[0m\u001b[0;34m.\u001b[0m\u001b[0mxlabel\u001b[0m\u001b[0;34m(\u001b[0m\u001b[0;34m'Support'\u001b[0m\u001b[0;34m,\u001b[0m \u001b[0mfontsize\u001b[0m \u001b[0;34m=\u001b[0m \u001b[0;36m16\u001b[0m\u001b[0;34m)\u001b[0m\u001b[0;34m\u001b[0m\u001b[0m\n\u001b[1;32m      4\u001b[0m \u001b[0mplt\u001b[0m\u001b[0;34m.\u001b[0m\u001b[0mylabel\u001b[0m\u001b[0;34m(\u001b[0m\u001b[0;34m'Probability'\u001b[0m\u001b[0;34m,\u001b[0m \u001b[0mfontsize\u001b[0m \u001b[0;34m=\u001b[0m \u001b[0;36m16\u001b[0m\u001b[0;34m)\u001b[0m\u001b[0;34m\u001b[0m\u001b[0m\n\u001b[1;32m      5\u001b[0m \u001b[0mplt\u001b[0m\u001b[0;34m.\u001b[0m\u001b[0mylim\u001b[0m\u001b[0;34m(\u001b[0m\u001b[0;34m(\u001b[0m\u001b[0;36m0\u001b[0m\u001b[0;34m,\u001b[0m\u001b[0;36m.3\u001b[0m\u001b[0;34m)\u001b[0m\u001b[0;34m)\u001b[0m\u001b[0;34m\u001b[0m\u001b[0m\n",
      "\u001b[0;31mNameError\u001b[0m: name 'x' is not defined"
     ]
    },
    {
     "data": {
      "text/plain": [
       "<matplotlib.figure.Figure at 0x1062089d0>"
      ]
     },
     "metadata": {},
     "output_type": "display_data"
    }
   ],
   "source": [
    "plt.figure(figsize = (12,10))\n",
    "plt.plot(x, pdf, 'b')\n",
    "plt.xlabel('Support', fontsize = 16)\n",
    "plt.ylabel('Probability', fontsize = 16)\n",
    "plt.ylim((0,.3))\n",
    "plt.title('Logistic PDF', fontsize = 20)\n",
    "plt.axvline(0, color='r', ls='--', lw=2.0)"
   ]
  },
  {
   "cell_type": "markdown",
   "metadata": {},
   "source": [
    "### Mathematical Digression"
   ]
  },
  {
   "cell_type": "markdown",
   "metadata": {},
   "source": [
    "The following relations can be used to show that the logistic RV meets the properties of probability.\n",
    "\n",
    "$x^0=1 \\text{ } \\forall x\\in\\Re$\n",
    "\n",
    "$\\infty^{-1}=0$\n",
    "\n",
    "$\\exp(\\infty)=\\infty$\n",
    "\n",
    "$\\exp(-\\infty)=0$\n",
    "\n",
    "$\\alpha^\\infty=0 \\text{ for } \\mid\\alpha\\mid<1$"
   ]
  },
  {
   "cell_type": "markdown",
   "metadata": {},
   "source": [
    "### Univariate Standard Normal (or Gaussian), denoted $N(0,1)$"
   ]
  },
  {
   "cell_type": "markdown",
   "metadata": {},
   "source": [
    "Probability Density Function\n",
    "\n",
    "$f(x)=\\displaystyle{\\frac{1}{\\sqrt{2\\pi}}}\\exp\\{-\\frac{1}{2}x^2\\}$"
   ]
  },
  {
   "cell_type": "markdown",
   "metadata": {},
   "source": [
    "For $N(\\mu,\\sigma^2)$ formula is:\n",
    "\n",
    "$f(x)=\\displaystyle{\\frac{1}{\\sqrt{2\\pi\\sigma^2}}}\\exp\\{-\\frac{1}{2\\sigma^2}(x-\\mu)^2\\}$"
   ]
  },
  {
   "cell_type": "code",
   "execution_count": 17,
   "metadata": {
    "collapsed": false
   },
   "outputs": [],
   "source": [
    "x = np.linspace(-10,10,1000)\n",
    "pdf = np.exp(-0.5*x**2)/np.sqrt(2*np.pi)"
   ]
  },
  {
   "cell_type": "code",
   "execution_count": 18,
   "metadata": {
    "collapsed": false
   },
   "outputs": [
    {
     "data": {
      "text/plain": [
       "<matplotlib.lines.Line2D at 0x1043bc4d0>"
      ]
     },
     "execution_count": 18,
     "metadata": {},
     "output_type": "execute_result"
    },
    {
     "data": {
      "image/png": "[encoded data removed]",
      "text/plain": [
       "<matplotlib.figure.Figure at 0x1043bc5d0>"
      ]
     },
     "metadata": {},
     "output_type": "display_data"
    }
   ],
   "source": [
    "plt.figure(figsize = (12,10))\n",
    "plt.plot(x, pdf, 'b')\n",
    "plt.xlabel('Support', fontsize = 16)\n",
    "plt.ylabel('Probability', fontsize = 16)\n",
    "plt.ylim((0,.5))\n",
    "plt.title('Normal PDF', fontsize = 20)\n",
    "plt.axvline(0, color='r', ls='--', lw=2.0)"
   ]
  },
  {
   "cell_type": "markdown",
   "metadata": {},
   "source": [
    "### Other Continuous RVs"
   ]
  },
  {
   "cell_type": "markdown",
   "metadata": {},
   "source": [
    "1. Student's t distribution (for small-sample hypothesis testing).\n",
    "2. Uniform over a range (for random number generation).\n",
    "3. Chi-Squared, the square of the normal (for joint hypothesis testing).\n",
    "4. Log normal, the transformation of non-negative things like wages or stock returns"
   ]
  },
  {
   "cell_type": "markdown",
   "metadata": {},
   "source": [
    "### Bivariate Normal with Correlation $\\rho$\n",
    "\n",
    "See https://en.wikipedia.org/wiki/Multivariate_normal_distribution"
   ]
  },
  {
   "cell_type": "code",
   "execution_count": null,
   "metadata": {
    "collapsed": false
   },
   "outputs": [],
   "source": [
    "import matplotlib.cm as cm\n",
    "from mpl_toolkits.mplot3d import Axes3D\n",
    "\n",
    "x, y = np.linspace(-4, 4, 100), np.linspace(-4, 4, 100)\n",
    "x, y = np.meshgrid(x, y)\n",
    "z = np.mat(np.zeros(2))\n",
    "p = np.zeros(np.shape(x))\n",
    "R = np.matrix([[1, 0.5],[0.5, 1]])\n",
    "Rinv = linalg.inv(R)\n",
    "Q = R.T\n",
    "\n",
    "for i in xrange(len(x)):\n",
    "    for j in xrange(len(y)):\n",
    "        z[0, 0] = x[i, j]\n",
    "        z[0, 1] = y[i, j]\n",
    "        p[i, j] = (1.0 / (2 * np.pi) * np.sqrt(linalg.det(R))) * np.exp(-(z * Rinv *z.T) / 2)\n",
    "\n",
    "fig = plt.figure(figsize = (12, 10))\n",
    "ax = Axes3D(fig)\n",
    "#ax.plot_wireframe(x, y, p, rstride=3, cstride=3, color='#AD5300')\n",
    "ax.plot_surface(x, y, p, rstride=2, cstride=2, cmap=cm.coolwarm, shade='interp')\n",
    "#ax.plot_wireframe(x, y, p, rstride=3, cstride=3, color='black')\n",
    "ax.view_init(20, 80) # rotation through 20, 40, 60, 80\n",
    "ax.set_xlabel(r'$x$', fontsize = 16)\n",
    "ax.set_ylabel(r'$y$', fontsize = 16)\n",
    "ax.set_zlabel(r'$f(x, y)$', fontsize = 16)\n",
    "ax.set_title(r'Bivariate Normal, $\\rho = 0.5$', fontsize = 20)"
   ]
  },
  {
   "cell_type": "code",
   "execution_count": null,
   "metadata": {
    "collapsed": false
   },
   "outputs": [],
   "source": [
    "fig = plt.figure(figsize = (12, 10))\n",
    "ax = fig.gca()\n",
    "ax.contour(x, y, p)  \n",
    "ax.set_xlim(-4, 4)\n",
    "ax.set_ylim(-4, 4)\n",
    "ax.set_xlabel(r'$x$', fontsize = 16)\n",
    "ax.set_ylabel(r'$y$', fontsize = 16)\n",
    "ax.set_title(r'Contour Plot of Bivariate Normal, $\\rho = 0.5$', fontsize = 20)"
   ]
  },
  {
   "cell_type": "markdown",
   "metadata": {},
   "source": [
    "## Generating Sample Data, Important Moments, and Scatterplots"
   ]
  },
  {
   "cell_type": "markdown",
   "metadata": {},
   "source": [
    "In statistical learning, we often work with strucutured data and undertake an analysis of those data.  Often this is called \"dimension reduction,\" in that we seek to develop lower-dimensional but informative representations of the data.  (You will deal with unstructured data later in the course.)\n",
    "\n",
    "Again, we will allow the computer to do the heavy lifting for us.  Let's start generating some random samples and playing with them."
   ]
  },
  {
   "cell_type": "code",
   "execution_count": null,
   "metadata": {
    "collapsed": true
   },
   "outputs": [],
   "source": [
    "ss = 1000 # Sample size of the observed data\n",
    "mean = [0, 0] # Mean zero\n",
    "corr = 0.5 # Correlation 0.5\n",
    "R = np.matrix([[1, corr],[corr, 1]]) \n",
    "x1, x2 = np.random.multivariate_normal(mean, R, ss).T # Draw the observed data"
   ]
  },
  {
   "cell_type": "code",
   "execution_count": null,
   "metadata": {
    "collapsed": false
   },
   "outputs": [],
   "source": [
    "print x1.mean(), x1.var(), x1.std()"
   ]
  },
  {
   "cell_type": "code",
   "execution_count": null,
   "metadata": {
    "collapsed": false
   },
   "outputs": [],
   "source": [
    "print x2.mean(), x2.var(), x2.std()"
   ]
  },
  {
   "cell_type": "code",
   "execution_count": null,
   "metadata": {
    "collapsed": false
   },
   "outputs": [],
   "source": [
    "print np.corrcoef(x1, x2)[1, 0]"
   ]
  },
  {
   "cell_type": "code",
   "execution_count": null,
   "metadata": {
    "collapsed": false
   },
   "outputs": [],
   "source": [
    "plt.figure(figsize=(12, 10))\n",
    "plt.plot(x1, x2, 'bo')\n",
    "plt.xlim(-4, 4)\n",
    "plt.ylim(-4, 4)\n",
    "plt.xlabel(r'$x_1$', fontsize = 16)\n",
    "plt.ylabel(r'$x_2$', fontsize = 16)\n",
    "plt.title(r'Scatterplot of Simulated Data', fontsize = 20)"
   ]
  },
  {
   "cell_type": "markdown",
   "metadata": {},
   "source": [
    "## Prob/Stats Homework\n",
    "\n",
    "Using R or Python:\n",
    "\n",
    "1.  Suppose you had two 8-sided dice, and your experiment is toss these two dice 25 times. The random variables are the outcomes on each die from each toss.  Calculate the mean, standard deviation, and correlation of these two random variables.\n",
    "\n",
    "2.  Generate 1,000 draws from the bivariate normal, setting it to 0, -0.5, 0.8, and 0.99.  Graph the scatter plots, calculate moments, and generate scatterplots.  How does the negative correlation affect your results, in particular the scatterplots?  How does high correlation affect your results?  \n",
    "\n",
    "2.  Increase the sample size to 10,000 and repeat 1 above.  How does the larger sample affect your results?  \n",
    "\n",
    "3.  Return to a sample size of 1,000.  Increase the variances of $x_1$ to 3 and of $x_2$ to 5.  Repeat 1 above.  How does the larger variance affect your results?\n",
    "\n",
    "4.  Are there any general conclusions that you can draw from this exercise?\n",
    "\n",
    "Submit code and results."
   ]
  },
  {
   "cell_type": "code",
   "execution_count": null,
   "metadata": {
    "collapsed": true
   },
   "outputs": [],
   "source": []
  }
 ],
 "metadata": {
  "kernelspec": {
   "display_name": "Python 2",
   "language": "python",
   "name": "python2"
  },
  "language_info": {
   "codemirror_mode": {
    "name": "ipython",
    "version": 2
   },
   "file_extension": ".py",
   "mimetype": "text/x-python",
   "name": "python",
   "nbconvert_exporter": "python",
   "pygments_lexer": "ipython2",
   "version": "2.7.10"
  }
 },
 "nbformat": 4,
 "nbformat_minor": 0
}
