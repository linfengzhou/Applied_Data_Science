{
 "cells": [
  {
   "cell_type": "markdown",
   "metadata": {},
   "source": [
    "# Homework 3"
   ]
  },
  {
   "cell_type": "markdown",
   "metadata": {},
   "source": [
    "1. Python users, use Python's pandas library to read in the Stata-formatted dataset used in class called \"SI Sales.dta\".  R users, use R's foreign library to read in the Stata-formatted dataset called \"SI Sales Old.dta\".  Replicate all of the regression results for this dataset that I presented in class.  \n",
    "\n",
    "2. There is an additional feature in this dataset called \"sales_year\", which captures the year the sale of a house in Staten Island occurred.  From this feature, generate a feature that is linear time trend.  (A linear time trend is a feature that takes on value \"1\" in the initial year and increments by \"1\" each subsequent year.  For example, if 2003 were \"1\", 2004 would be \"2\", 2005 would be \"3\", and so forth.)  Run a linear regression model that relates the sales price to unit size, land size, age, the Todt Hill indicator, and the linear time trend.  How would you interpret the estimated coefficient associated with the linear time trend?  What is the 95% confidence interval of your interpretation?  Based on your regression diagnostics, have you improved the fit of the house price sales data by including the linear time trend as an additional explanatory feature?  \n",
    "\n",
    "3. As noted in class, the unit size and land size features are measured in squared meters.  Suppose I ask you to re-express these features using the Imperial system of square feet rather than square meters, but I express a concern that the interpretation of the estimated coefficients, such as age, would be changed.  Without acutally doing any statistical learning, what would you say to me about my concern?  Rerun the linear regression in 2. using the dwelling size and land size measured in square feet (rather than square meters).  What, if anything, has changed in your estimated coefficients?\n",
    "\n",
    "4. (Challenging question.  Feel free to work together to the extent that it assists you.)  Assume the following data generating process (DGP) governs a random sample of size 10,000: $y_i = \\beta_0 + \\beta_1 x_{1i} + \\beta_2 x_{2i} + \\epsilon_i$  for $\\epsilon_i \\sim N(0,1)$.  Further assume for this DGP that  $\\beta_0=\\beta_1=\\beta_2=1$.  (a) Suppose the following process governs your features: $x_{1i} \\sim N(0,1)$ and $x_{2i} \\sim N(0,1)$ are independent.  Using R or Python, calculate the correlation between features $x_{1i}$ and $x_{2i}$.  Mistakenly, you decide to estimate a linear regression that includes only the feature $x_{1i}$.  Using R or Python, simulate this DGP and run the mistaken linear regression that includes only feature $x_{1i}$.  What value do you obtain for the coefficient associated with with feature $x_{1i}$?  (b) Suppose instead that the follow process governs your features: $x_{1i}=z_i+\\eta_i$ and $x_{2i}=-z_i+\\omega_i$, where $z_i \\sim N(0,1)$, $\\eta_i \\sim N(0,1)$, and $\\omega_i \\sim N(0,1)$ are independent.  Using R or Python, calculate the correlation between features $x_{1i}$ and $x_{2i}$.  Again, you mistakenly decide to estimate a linear regression that includes only the feature $x_{1i}$.  Using R or Python, simulate this DGP and run the mistaken linear regression that includes only feature $x_{1i}$.  What value do you obtain for the coefficient associated with with feature $x_{1i}$?  (c) Are there any conclusions you can draw from your results in (a) and (b)? \n",
    "\n",
    "4.  Spend time working on your proposal for the Foundations Project.\n",
    "\n",
    "For questions 1 through 4 above, submit code and results."
   ]
  },
  {
   "cell_type": "code",
   "execution_count": 8,
   "metadata": {
    "collapsed": false
   },
   "outputs": [
    {
     "name": "stdout",
     "output_type": "stream",
     "text": [
      "Populating the interactive namespace from numpy and matplotlib\n"
     ]
    }
   ],
   "source": [
    "# Load relevant libraries.\n",
    "\n",
    "%pylab inline\n",
    "import matplotlib.pyplot as plt\n",
    "import numpy as np\n",
    "import pandas as pd\n",
    "import Quandl\n",
    "import statsmodels.api as sm\n",
    "import statsmodels.formula.api as smf\n",
    "from statsmodels.graphics.api import abline_plot\n",
    "import patsy\n",
    "import seaborn as sns\n",
    "sns.set(context='notebook', style='whitegrid', palette='deep', font='sans-serif', font_scale=1, rc=None)\n",
    "import urllib2 as url"
   ]
  },
  {
   "cell_type": "code",
   "execution_count": 3,
   "metadata": {
    "collapsed": false
   },
   "outputs": [],
   "source": [
    "sales = pd.read_stata('SI Sales Old.dta')"
   ]
  },
  {
   "cell_type": "code",
   "execution_count": 4,
   "metadata": {
    "collapsed": false
   },
   "outputs": [
    {
     "name": "stdout",
     "output_type": "stream",
     "text": [
      "<class 'pandas.core.frame.DataFrame'>\n",
      "Int64Index: 31680 entries, 0 to 31679\n",
      "Data columns (total 6 columns):\n",
      "price         31680 non-null float64\n",
      "unit_size     31680 non-null float32\n",
      "land_size     31680 non-null float32\n",
      "age           31680 non-null float32\n",
      "todt          31680 non-null float32\n",
      "sales_year    31680 non-null float32\n",
      "dtypes: float32(5), float64(1)\n",
      "memory usage: 1.1 MB\n",
      "None\n"
     ]
    }
   ],
   "source": [
    "print sales.info()"
   ]
  },
  {
   "cell_type": "code",
   "execution_count": 5,
   "metadata": {
    "collapsed": false
   },
   "outputs": [
    {
     "name": "stdout",
     "output_type": "stream",
     "text": [
      "                price     unit_size     land_size           age          todt  \\\n",
      "count    31680.000000  31680.000000  31680.000000  31680.000000  31680.000000   \n",
      "mean    402106.300221    161.039062    326.058075     35.846844      0.007102   \n",
      "std     239551.524308     79.404953    289.826691     31.082787      0.083977   \n",
      "min      50500.000000     20.067047     24.340586      0.000000      0.000000   \n",
      "25%     291975.000000    114.456497    185.806000      9.000000      0.000000   \n",
      "50%     371000.000000    145.671906    252.696167     27.000000      0.000000   \n",
      "75%     455000.000000    184.969879    380.902313     56.000000      0.000000   \n",
      "max    7700000.000000   1431.077759  10788.825195    119.000000      1.000000   \n",
      "\n",
      "         sales_year  \n",
      "count  31680.000000  \n",
      "mean    2006.483643  \n",
      "std        2.785286  \n",
      "min     2003.000000  \n",
      "25%     2004.000000  \n",
      "50%     2006.000000  \n",
      "75%     2009.000000  \n",
      "max     2013.000000  \n"
     ]
    }
   ],
   "source": [
    "print sales.describe()"
   ]
  },
  {
   "cell_type": "code",
   "execution_count": 6,
   "metadata": {
    "collapsed": false
   },
   "outputs": [
    {
     "name": "stdout",
     "output_type": "stream",
     "text": [
      "               price  unit_size  land_size       age      todt  sales_year\n",
      "price       1.000000   0.549706   0.505356 -0.064088  0.352151    0.096092\n",
      "unit_size   0.549706   1.000000   0.446105 -0.201536  0.326307    0.023416\n",
      "land_size   0.505356   0.446105   1.000000  0.274697  0.346801    0.077402\n",
      "age        -0.064088  -0.201536   0.274697  1.000000  0.005157    0.125040\n",
      "todt        0.352151   0.326307   0.346801  0.005157  1.000000    0.012260\n",
      "sales_year  0.096092   0.023416   0.077402  0.125040  0.012260    1.000000\n"
     ]
    }
   ],
   "source": [
    "print sales.corr()"
   ]
  },
  {
   "cell_type": "code",
   "execution_count": 9,
   "metadata": {
    "collapsed": false
   },
   "outputs": [
    {
     "name": "stdout",
     "output_type": "stream",
     "text": [
      "                            OLS Regression Results                            \n",
      "==============================================================================\n",
      "Dep. Variable:                  price   R-squared:                       0.302\n",
      "Model:                            OLS   Adj. R-squared:                  0.302\n",
      "Method:                 Least Squares   F-statistic:                 1.372e+04\n",
      "Date:                Wed, 30 Sep 2015   Prob (F-statistic):               0.00\n",
      "Time:                        17:49:12   Log-Likelihood:            -4.3166e+05\n",
      "No. Observations:               31680   AIC:                         8.633e+05\n",
      "Df Residuals:                   31678   BIC:                         8.633e+05\n",
      "Df Model:                           1                                         \n",
      "Covariance Type:            nonrobust                                         \n",
      "==============================================================================\n",
      "                 coef    std err          t      P>|t|      [95.0% Conf. Int.]\n",
      "------------------------------------------------------------------------------\n",
      "Intercept    1.35e+05   2542.335     53.118      0.000       1.3e+05   1.4e+05\n",
      "unit_size   1658.3706     14.159    117.121      0.000      1630.618  1686.124\n",
      "==============================================================================\n",
      "Omnibus:                    51914.230   Durbin-Watson:                   1.973\n",
      "Prob(Omnibus):                  0.000   Jarque-Bera (JB):        103733692.864\n",
      "Skew:                          10.534   Prob(JB):                         0.00\n",
      "Kurtosis:                     282.539   Cond. No.                         406.\n",
      "==============================================================================\n",
      "\n",
      "Warnings:\n",
      "[1] Standard Errors assume that the covariance matrix of the errors is correctly specified.\n"
     ]
    }
   ],
   "source": [
    "mod = smf.ols(formula='price ~ unit_size', data = sales).fit()\n",
    "print(mod.summary())"
   ]
  },
  {
   "cell_type": "code",
   "execution_count": 10,
   "metadata": {
    "collapsed": false
   },
   "outputs": [
    {
     "data": {
      "text/html": [
       "<table class=\"simpletable\">\n",
       "<tr>\n",
       "        <td>Model:</td>               <td>OLS</td>         <td>Adj. R-squared:</td>      <td>0.302</td>   \n",
       "</tr>\n",
       "<tr>\n",
       "  <td>Dependent Variable:</td>       <td>price</td>             <td>AIC:</td>         <td>863318.9733</td>\n",
       "</tr>\n",
       "<tr>\n",
       "         <td>Date:</td>        <td>2015-09-30 17:49</td>        <td>BIC:</td>         <td>863335.7002</td>\n",
       "</tr>\n",
       "<tr>\n",
       "   <td>No. Observations:</td>        <td>31680</td>        <td>Log-Likelihood:</td>   <td>-4.3166e+05</td>\n",
       "</tr>\n",
       "<tr>\n",
       "       <td>Df Model:</td>              <td>1</td>           <td>F-statistic:</td>      <td>1.372e+04</td> \n",
       "</tr>\n",
       "<tr>\n",
       "     <td>Df Residuals:</td>          <td>31678</td>      <td>Prob (F-statistic):</td>    <td>0.00</td>    \n",
       "</tr>\n",
       "<tr>\n",
       "      <td>R-squared:</td>            <td>0.302</td>            <td>Scale:</td>        <td>4.0046e+10</td> \n",
       "</tr>\n",
       "</table>\n",
       "<table class=\"simpletable\">\n",
       "<tr>\n",
       "      <td></td>         <th>Coef.</th>    <th>Std.Err.</th>      <th>t</th>     <th>P>|t|</th>   <th>[0.025</th>      <th>0.975]</th>   \n",
       "</tr>\n",
       "<tr>\n",
       "  <th>Intercept</th> <td>135043.8679</td> <td>2542.3346</td>  <td>53.1181</td> <td>0.0000</td> <td>130060.7932</td> <td>140026.9425</td>\n",
       "</tr>\n",
       "<tr>\n",
       "  <th>unit_size</th>  <td>1658.3706</td>   <td>14.1594</td>  <td>117.1215</td> <td>0.0000</td>  <td>1630.6176</td>   <td>1686.1236</td> \n",
       "</tr>\n",
       "</table>\n",
       "<table class=\"simpletable\">\n",
       "<tr>\n",
       "     <td>Omnibus:</td>    <td>51914.230</td>  <td>Durbin-Watson:</td>       <td>1.973</td>    \n",
       "</tr>\n",
       "<tr>\n",
       "  <td>Prob(Omnibus):</td>   <td>0.000</td>   <td>Jarque-Bera (JB):</td> <td>103733692.864</td>\n",
       "</tr>\n",
       "<tr>\n",
       "       <td>Skew:</td>      <td>10.534</td>       <td>Prob(JB):</td>         <td>0.000</td>    \n",
       "</tr>\n",
       "<tr>\n",
       "     <td>Kurtosis:</td>    <td>282.539</td>   <td>Condition No.:</td>        <td>406</td>     \n",
       "</tr>\n",
       "</table>"
      ],
      "text/plain": [
       "<class 'statsmodels.iolib.summary2.Summary'>\n",
       "\"\"\"\n",
       "                    Results: Ordinary least squares\n",
       "=======================================================================\n",
       "Model:               OLS               Adj. R-squared:      0.302      \n",
       "Dependent Variable:  price             AIC:                 863318.9733\n",
       "Date:                2015-09-30 17:49  BIC:                 863335.7002\n",
       "No. Observations:    31680             Log-Likelihood:      -4.3166e+05\n",
       "Df Model:            1                 F-statistic:         1.372e+04  \n",
       "Df Residuals:        31678             Prob (F-statistic):  0.00       \n",
       "R-squared:           0.302             Scale:               4.0046e+10 \n",
       "-----------------------------------------------------------------------\n",
       "             Coef.     Std.Err.    t     P>|t|     [0.025      0.975]  \n",
       "-----------------------------------------------------------------------\n",
       "Intercept 135043.8679 2542.3346  53.1181 0.0000 130060.7932 140026.9425\n",
       "unit_size   1658.3706   14.1594 117.1215 0.0000   1630.6176   1686.1236\n",
       "-----------------------------------------------------------------------\n",
       "Omnibus:            51914.230      Durbin-Watson:         1.973        \n",
       "Prob(Omnibus):      0.000          Jarque-Bera (JB):      103733692.864\n",
       "Skew:               10.534         Prob(JB):              0.000        \n",
       "Kurtosis:           282.539        Condition No.:         406          \n",
       "=======================================================================\n",
       "\n",
       "\"\"\""
      ]
     },
     "execution_count": 10,
     "metadata": {},
     "output_type": "execute_result"
    }
   ],
   "source": [
    "mod.summary2()"
   ]
  },
  {
   "cell_type": "code",
   "execution_count": 11,
   "metadata": {
    "collapsed": false
   },
   "outputs": [
    {
     "name": "stdout",
     "output_type": "stream",
     "text": [
      "                            OLS Regression Results                            \n",
      "==============================================================================\n",
      "Dep. Variable:                  price   R-squared:                       0.387\n",
      "Model:                            OLS   Adj. R-squared:                  0.387\n",
      "Method:                 Least Squares   F-statistic:                     9985.\n",
      "Date:                Wed, 30 Sep 2015   Prob (F-statistic):               0.00\n",
      "Time:                        17:49:54   Log-Likelihood:            -4.2961e+05\n",
      "No. Observations:               31680   AIC:                         8.592e+05\n",
      "Df Residuals:                   31677   BIC:                         8.593e+05\n",
      "Df Model:                           2                                         \n",
      "Covariance Type:            nonrobust                                         \n",
      "==============================================================================\n",
      "                 coef    std err          t      P>|t|      [95.0% Conf. Int.]\n",
      "------------------------------------------------------------------------------\n",
      "Intercept   1.179e+05   2397.598     49.177      0.000      1.13e+05  1.23e+05\n",
      "unit_size   1221.3016     14.833     82.339      0.000      1192.229  1250.374\n",
      "land_size    268.4246      4.064     66.053      0.000       260.459   276.390\n",
      "==============================================================================\n",
      "Omnibus:                    54911.523   Durbin-Watson:                   1.975\n",
      "Prob(Omnibus):                  0.000   Jarque-Bera (JB):        162331043.514\n",
      "Skew:                          11.765   Prob(JB):                         0.00\n",
      "Kurtosis:                     352.892   Cond. No.                     1.05e+03\n",
      "==============================================================================\n",
      "\n",
      "Warnings:\n",
      "[1] Standard Errors assume that the covariance matrix of the errors is correctly specified.\n",
      "[2] The condition number is large, 1.05e+03. This might indicate that there are\n",
      "strong multicollinearity or other numerical problems.\n"
     ]
    }
   ],
   "source": [
    "mod = smf.ols(formula='price ~ unit_size + land_size', data = sales).fit()\n",
    "print(mod.summary())"
   ]
  },
  {
   "cell_type": "code",
   "execution_count": 12,
   "metadata": {
    "collapsed": false
   },
   "outputs": [
    {
     "name": "stdout",
     "output_type": "stream",
     "text": [
      "                            OLS Regression Results                            \n",
      "==============================================================================\n",
      "Dep. Variable:                  price   R-squared:                       0.393\n",
      "Model:                            OLS   Adj. R-squared:                  0.393\n",
      "Method:                 Least Squares   F-statistic:                     6840.\n",
      "Date:                Wed, 30 Sep 2015   Prob (F-statistic):               0.00\n",
      "Time:                        17:50:11   Log-Likelihood:            -4.2945e+05\n",
      "No. Observations:               31680   AIC:                         8.589e+05\n",
      "Df Residuals:                   31676   BIC:                         8.589e+05\n",
      "Df Model:                           3                                         \n",
      "Covariance Type:            nonrobust                                         \n",
      "==============================================================================\n",
      "                 coef    std err          t      P>|t|      [95.0% Conf. Int.]\n",
      "------------------------------------------------------------------------------\n",
      "Intercept   1.496e+05   2940.848     50.854      0.000      1.44e+05  1.55e+05\n",
      "unit_size   1110.9812     15.927     69.755      0.000      1079.764  1142.198\n",
      "land_size    302.4288      4.445     68.038      0.000       293.716   311.141\n",
      "age         -696.5604     37.871    -18.393      0.000      -770.789  -622.332\n",
      "==============================================================================\n",
      "Omnibus:                    55260.071   Durbin-Watson:                   1.977\n",
      "Prob(Omnibus):                  0.000   Jarque-Bera (JB):        168661973.654\n",
      "Skew:                          11.921   Prob(JB):                         0.00\n",
      "Kurtosis:                     359.659   Cond. No.                     1.30e+03\n",
      "==============================================================================\n",
      "\n",
      "Warnings:\n",
      "[1] Standard Errors assume that the covariance matrix of the errors is correctly specified.\n",
      "[2] The condition number is large, 1.3e+03. This might indicate that there are\n",
      "strong multicollinearity or other numerical problems.\n"
     ]
    }
   ],
   "source": [
    "mod = smf.ols(formula='price ~ unit_size + land_size + age', data = sales).fit()\n",
    "print(mod.summary())"
   ]
  },
  {
   "cell_type": "code",
   "execution_count": 13,
   "metadata": {
    "collapsed": false
   },
   "outputs": [
    {
     "name": "stdout",
     "output_type": "stream",
     "text": [
      "                            OLS Regression Results                            \n",
      "==============================================================================\n",
      "Dep. Variable:                  price   R-squared:                       0.406\n",
      "Model:                            OLS   Adj. R-squared:                  0.406\n",
      "Method:                 Least Squares   F-statistic:                     5421.\n",
      "Date:                Wed, 30 Sep 2015   Prob (F-statistic):               0.00\n",
      "Time:                        17:50:30   Log-Likelihood:            -4.2910e+05\n",
      "No. Observations:               31680   AIC:                         8.582e+05\n",
      "Df Residuals:                   31675   BIC:                         8.582e+05\n",
      "Df Model:                           4                                         \n",
      "Covariance Type:            nonrobust                                         \n",
      "==============================================================================\n",
      "                 coef    std err          t      P>|t|      [95.0% Conf. Int.]\n",
      "------------------------------------------------------------------------------\n",
      "Intercept   1.674e+05   2985.210     56.076      0.000      1.62e+05  1.73e+05\n",
      "unit_size   1033.9862     16.017     64.556      0.000      1002.592  1065.380\n",
      "land_size    275.1814      4.514     60.956      0.000       266.333   284.030\n",
      "age         -671.3910     37.469    -17.919      0.000      -744.831  -597.951\n",
      "todt        3.574e+05   1.35e+04     26.565      0.000      3.31e+05  3.84e+05\n",
      "==============================================================================\n",
      "Omnibus:                    55772.049   Durbin-Watson:                   1.978\n",
      "Prob(Omnibus):                  0.000   Jarque-Bera (JB):        183883239.453\n",
      "Skew:                          12.140   Prob(JB):                         0.00\n",
      "Kurtosis:                     375.446   Cond. No.                     6.00e+03\n",
      "==============================================================================\n",
      "\n",
      "Warnings:\n",
      "[1] Standard Errors assume that the covariance matrix of the errors is correctly specified.\n",
      "[2] The condition number is large,  6e+03. This might indicate that there are\n",
      "strong multicollinearity or other numerical problems.\n"
     ]
    }
   ],
   "source": [
    "mod = smf.ols(formula='price ~ unit_size + land_size + age + todt', data = sales).fit()\n",
    "print(mod.summary())"
   ]
  },
  {
   "cell_type": "code",
   "execution_count": null,
   "metadata": {
    "collapsed": true
   },
   "outputs": [],
   "source": []
  }
 ],
 "metadata": {
  "kernelspec": {
   "display_name": "Python 2",
   "language": "python",
   "name": "python2"
  },
  "language_info": {
   "codemirror_mode": {
    "name": "ipython",
    "version": 2
   },
   "file_extension": ".py",
   "mimetype": "text/x-python",
   "name": "python",
   "nbconvert_exporter": "python",
   "pygments_lexer": "ipython2",
   "version": "2.7.10"
  }
 },
 "nbformat": 4,
 "nbformat_minor": 0
}
