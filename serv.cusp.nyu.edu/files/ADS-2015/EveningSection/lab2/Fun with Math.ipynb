{
 "cells": [
  {
   "cell_type": "markdown",
   "metadata": {},
   "source": [
    "# Fun with Math"
   ]
  },
  {
   "cell_type": "markdown",
   "metadata": {},
   "source": [
    "## Proof that the Logistic Distribution Is Proper"
   ]
  },
  {
   "cell_type": "markdown",
   "metadata": {},
   "source": [
    "Cumulative Density Function\n",
    "$F(x)=\\displaystyle{\\frac{1}{1+\\exp(-x)}}$\n",
    "\n",
    "Probability Density Function\n",
    "$F^\\prime(x)=f(x)=\\displaystyle{\\frac{\\exp(-x)}{1+\\exp(-x)}}$"
   ]
  },
  {
   "cell_type": "code",
   "execution_count": 4,
   "metadata": {
    "collapsed": false
   },
   "outputs": [
    {
     "name": "stdout",
     "output_type": "stream",
     "text": [
      "Populating the interactive namespace from numpy and matplotlib\n"
     ]
    }
   ],
   "source": [
    "%pylab inline\n",
    "import numpy as np\n",
    "import matplotlib.pyplot as plt\n",
    "import seaborn as sns\n",
    "sns.set(context='notebook', style='whitegrid', palette='deep', font='sans-serif', font_scale=1, rc=None)\n",
    "\n",
    "x = np.linspace(-10,10,1000)\n",
    "cdf = 1/(1+np.exp(-x))"
   ]
  },
  {
   "cell_type": "code",
   "execution_count": 2,
   "metadata": {
    "collapsed": false
   },
   "outputs": [
    {
     "data": {
      "text/plain": [
       "<matplotlib.lines.Line2D at 0x187925f8>"
      ]
     },
     "execution_count": 2,
     "metadata": {},
     "output_type": "execute_result"
    },
    {
     "data": {
      "image/png": "[encoded data removed]",
      "text/plain": [
       "<matplotlib.figure.Figure at 0x3b07320>"
      ]
     },
     "metadata": {},
     "output_type": "display_data"
    }
   ],
   "source": [
    "plt.figure(figsize = (12,10))\n",
    "plt.plot(x, cdf, 'b')\n",
    "plt.xlabel('Support', fontsize = 16)\n",
    "plt.ylabel('Probability', fontsize = 16)\n",
    "#plt.ylim((0,.3))\n",
    "plt.title('Logistic CDF', fontsize = 20)\n",
    "plt.axvline(0, color='r', ls='--', lw=2.0)"
   ]
  },
  {
   "cell_type": "markdown",
   "metadata": {},
   "source": [
    "Proof:\n",
    "\n",
    "1.  Calculate the limits of the CDF as $x \\rightarrow \\pm\\infty$.\n",
    "2.  Determine that $f(x) \\in [0,1] \\forall x$.\n",
    "\n",
    "Look at the CDF.  All the action is in $\\exp(-x)$.  \n",
    "\n",
    "So $\\lim_{x \\rightarrow -\\infty}\\exp(-x)=\\infty \\text{ and } \\frac{1}{\\infty} =0$.  \n",
    "\n",
    "Moreover, $\\lim_{x \\rightarrow \\infty}\\exp(-x)=0 \\text{ and } \\frac{1}{1} =1$.  \n",
    "\n",
    "Finally, the PDF is always bounded $\\forall x$.\n",
    "\n",
    "$\\therefore$ the logistic is a proper distribution."
   ]
  },
  {
   "cell_type": "markdown",
   "metadata": {},
   "source": [
    "## What's up with the $\\sqrt{2\\pi}$ in the Normal?"
   ]
  },
  {
   "cell_type": "markdown",
   "metadata": {},
   "source": [
    "For the $N(\\mu,\\sigma^2)$ random variable, the PDF is:\n",
    "\n",
    "$f(x)=\\displaystyle{\\frac{1}{\\sqrt{2\\pi\\sigma^2}}}\\exp\\{-\\frac{1}{2\\sigma^2}(x-\\mu)^2\\}$\n",
    "\n",
    "We know that that CDF does not have a closed-form solution.  Again, the action is in $\\exp\\{-\\frac{1}{2\\sigma^2}(x-\\mu)^2\\}$.  For ease, set the mean to 0 and the variance to 1.  The action is in $\\exp\\{-\\frac{1}{2}x^2\\}$. The integral over the entire support of this function is greater than one.  To make it a proper distribution, we have to normalize it so that the integral is one, which is the role of $\\sqrt{2\\pi}$."
   ]
  }
 ],
 "metadata": {
  "kernelspec": {
   "display_name": "Python 2",
   "language": "python",
   "name": "python2"
  },
  "language_info": {
   "codemirror_mode": {
    "name": "ipython",
    "version": 2
   },
   "file_extension": ".py",
   "mimetype": "text/x-python",
   "name": "python",
   "nbconvert_exporter": "python",
   "pygments_lexer": "ipython2",
   "version": "2.7.9"
  }
 },
 "nbformat": 4,
 "nbformat_minor": 0
}
