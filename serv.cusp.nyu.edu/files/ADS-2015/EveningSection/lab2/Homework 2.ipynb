{
 "cells": [
  {
   "cell_type": "markdown",
   "metadata": {},
   "source": [
    "# Homework 2"
   ]
  },
  {
   "cell_type": "markdown",
   "metadata": {},
   "source": [
    "Notes to students:  \n",
    "\n",
    "1. Going forward, all homework assignments will be produced as notebooks independent of those presented in class.  You may feel free to use the notebooks presented in class to assist you with the homework.  \n",
    "2. If you have already run a \"CAPM\" model for some other stock than AAPL and submitted it with Homework 1, please copy and paste your code and results for this homework assignment.  If you did not submit a CAPM for Homework 1, you will not be penalized.  Your \"CAPM\" model will be grade for this homework assignment.  If you are struggling because, for example, the New York Stock Exchange has a potentially discontinuous price series, please try using Yahoo, which also trades on the NASDAQ.  The goal is not to turn you into finance professionals, but to quickly get you engaged in statistical learning (using a well-understood model) and hypothesis testing.  \n",
    "3. The question has been raised as to whether students of my class and Dr. Sobolevsky's class may work together on their Foundations Project.  Subject to the other constraints in the syllabus, we approve this request."
   ]
  },
  {
   "cell_type": "markdown",
   "metadata": {},
   "source": [
    "Please answer the questions below, disregarding any homework assignments in existing notebooks.\n",
    "\n",
    "1. We discussed at some length the bivariate linear regression model, $y_i=\\beta_0+\\beta_1 x_i+\\epsilon_i$.  Using R or Python,  generate two series of 1,000 random integers with values between 0 and 9.  Call one series $y$ and the other $x$.  Using R or Python, fit the bivariate linear regression model.  Examine the t-statistic on the coefficient that captures the relationship between $y$ and $x$ to evaluate whether it is greater than two in absolute value.  Would you reject or fail to reject that there is any relationship between these two series?\n",
    "\n",
    "2. Download the file train.dta from the course website.  These data are formatted as a Stata dataset.  Read this dataset into R or Python.  (For R, you may find the “foreign” library of use.  For Python, we have already installed the Pandas library.  The goal here is to get you familiar with reading datasets with alternative formatting standards.)  Generate summary statistics for the two variables in the data:  (1) $d$, which is an indicator for whether a particular email is spam; and, (2) $x1$, which is an attribute of the email.  Using least squares, regress $d$ on $x1$.  Is the constant statistically significantly different than zero at a 95% level confidence?  Is the coefficient associated with $x1$ statistically significantly different that zero at a 95% level confidence?  Suppose you determine a threshold as to whether an email is spam if the predicted value of $d$ exceeds 1.  In turn, I give you a new email with an attribute value of 0.65 but do not provide a label for the email as to whether it is, in truth, spam.  Given the attribute value of 0.65, would you classify the incoming email as spam or not spam?  Suppose instead I give you another new email with an attribute value of 1.01, but again do not provide a label for the email.  Would you classify it as spam or not spam?\n",
    "\n",
    "3. Using an API such as Quandl, download a daily price series for a particular publicly-traded stock of your choice for a five-year time period (don’t use Apple), as well as the daily price series on the exchange on which it trades.  Using R or Python, calculate the log returns of each series as the natural log of the ratio of (price today/price yesterday).  Use adjusted closing prices as they reflect so-called stock splits.  Using R or Python, generate a histogram of log returns of the stock of your choice.  Using R or Python, generate a scatterplot that relates the log returns of your stock of choice to the log returns of the exchange on which it is traded.  Finally, using R or Python, fit a linear model to obtain estimates of what finance folks call the \"alpha\" and the \"beta\".  Is \"alpha\" significantly different than zero at a 95% level of confidence?  Does a 95% confidence level for \"beta\" include one?  (Note that your results will depend on the stock price you use.)    \n",
    "\n",
    "4. This is a very challenging set of questions, but they address several key topics in data analytics.  You may work with other students on a solution with the recognition that you may not complete this set of questions.  I have frequently used the phrase \"data generating process\" (or \"DGP\") to describe the hypothetical process by which observations of data arise in the real world.  We discussed at some length the bivariate linear regression model, $y_i=\\beta_0+\\beta_1 x_i+\\epsilon_i$.  In this problem, we will work with a specific DGP and evaluate features of $\\widehat \\beta_1$, the least squares estimate of $\\beta_1$.  Suppose your DGP is $y_i=1+2x_i+ϵ_i$, where $x \\sim N(0,1)$ and $\\epsilon \\sim N(0,1)$.  Using R or Python, write code to generate 1,000 draws for $x$ and $\\epsilon$.  Use these draws to generate $y$ in accordance with the given DGP.  Using R or Python, write code to estimate the bivariate model, $y_i=\\beta_0+\\beta_1 x_i$ and to summarize the findings.  \n",
    "\n",
    "5. Repeat 4 above five different times for a new set of random draws for each replication.  (This effort is called Monte Carlo simulation.  Each time you generate a new set of data and estimate a model, you have a replication.  For example, here you have five replications.)   \n",
    "\n",
    "6. Write code to automatically repeat 5 above 1,000 times (or 1,000 replications), each time automatically recording the estimated value of $\\beta_1$.  Generate a histogram of these 1,000 replications of your estimates of $\\beta_1$.  What does the dispersion of these replications measure?  \n",
    "\n",
    "7. Suppose that you were not interested in the estimate of $\\beta_1$, but instead in some functional transformation, such as the estimate of $\\exp(\\beta_1)$.  What might you do with your 1,000 replications from 6 above to inform you about the distribution of this transformation of $\\beta_1$?\n",
    "\n",
    "Submit code and results."
   ]
  }
 ],
 "metadata": {
  "kernelspec": {
   "display_name": "Python 2",
   "language": "python",
   "name": "python2"
  },
  "language_info": {
   "codemirror_mode": {
    "name": "ipython",
    "version": 2
   },
   "file_extension": ".py",
   "mimetype": "text/x-python",
   "name": "python",
   "nbconvert_exporter": "python",
   "pygments_lexer": "ipython2",
   "version": "2.7.9"
  }
 },
 "nbformat": 4,
 "nbformat_minor": 0
}
